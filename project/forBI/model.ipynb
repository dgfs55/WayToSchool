{
 "cells": [
  {
   "cell_type": "code",
   "execution_count": 1,
   "id": "648be32a",
   "metadata": {},
   "outputs": [],
   "source": [
    "import psycopg2\n",
    "import pandas as pd\n",
    "from pandas_profiling import ProfileReport\n",
    "import seaborn as sns\n",
    "import matplotlib.pyplot as plt\n",
    "%matplotlib inline"
   ]
  },
  {
   "cell_type": "markdown",
   "id": "f536d5ee",
   "metadata": {},
   "source": [
    "# 데이터 처리"
   ]
  },
  {
   "cell_type": "code",
   "execution_count": 2,
   "id": "8fda5d8d",
   "metadata": {},
   "outputs": [],
   "source": [
    "#DB 불러오기\n",
    "conn= psycopg2.connect(dbname=\"child\", user=\"postgres\", password=\"qpwoeiruty12\")\n",
    "cur= conn.cursor()"
   ]
  },
  {
   "cell_type": "code",
   "execution_count": 3,
   "id": "f722816b",
   "metadata": {},
   "outputs": [],
   "source": [
    "def make_df(conn,cur,name):\n",
    "    contents= cur.execute(f\"SELECT * FROM {name}\")\n",
    "    col_list=['id', 'afos_fid', 'afos_id', 'bjd_cd', 'spot_cd', 'sido_sgg_nm', 'spot_nm', 'occrrnc_cnt', 'caslt_cnt', 'dth_dnv_cnt', 'se_dnv_cnt','sl_dnv_cnt', 'wnd_dnv_cnt', 'lo_crd', 'la_crd']\n",
    "    \n",
    "    df= pd.DataFrame(cur.fetchall(), columns=col_list)\n",
    "    df.set_index('id', inplace=True)\n",
    "    return df\n",
    "\n",
    "\n",
    "child= make_df(conn,cur,'child')\n",
    "schoolzone= make_df(conn,cur,'schoolzone')\n",
    "#두 데이터를 병합하도록 합시다\n",
    "\n",
    "data= pd.concat([child,schoolzone])\n",
    "data.reset_index(inplace=True, drop= True)"
   ]
  },
  {
   "cell_type": "code",
   "execution_count": 4,
   "id": "5c5212ed",
   "metadata": {
    "scrolled": true
   },
   "outputs": [
    {
     "data": {
      "text/html": [
       "<div>\n",
       "<style scoped>\n",
       "    .dataframe tbody tr th:only-of-type {\n",
       "        vertical-align: middle;\n",
       "    }\n",
       "\n",
       "    .dataframe tbody tr th {\n",
       "        vertical-align: top;\n",
       "    }\n",
       "\n",
       "    .dataframe thead th {\n",
       "        text-align: right;\n",
       "    }\n",
       "</style>\n",
       "<table border=\"1\" class=\"dataframe\">\n",
       "  <thead>\n",
       "    <tr style=\"text-align: right;\">\n",
       "      <th></th>\n",
       "      <th>afos_fid</th>\n",
       "      <th>afos_id</th>\n",
       "      <th>bjd_cd</th>\n",
       "      <th>spot_cd</th>\n",
       "      <th>sido_sgg_nm</th>\n",
       "      <th>spot_nm</th>\n",
       "      <th>occrrnc_cnt</th>\n",
       "      <th>caslt_cnt</th>\n",
       "      <th>dth_dnv_cnt</th>\n",
       "      <th>se_dnv_cnt</th>\n",
       "      <th>sl_dnv_cnt</th>\n",
       "      <th>wnd_dnv_cnt</th>\n",
       "      <th>lo_crd</th>\n",
       "      <th>la_crd</th>\n",
       "    </tr>\n",
       "  </thead>\n",
       "  <tbody>\n",
       "    <tr>\n",
       "      <th>0</th>\n",
       "      <td>138468</td>\n",
       "      <td>2013097</td>\n",
       "      <td>1117013100</td>\n",
       "      <td>11170001</td>\n",
       "      <td>서울특별시 용산구1</td>\n",
       "      <td>서울특별시 용산구 한남동(순천향병원 부근)</td>\n",
       "      <td>3</td>\n",
       "      <td>3</td>\n",
       "      <td>0</td>\n",
       "      <td>0</td>\n",
       "      <td>2</td>\n",
       "      <td>1</td>\n",
       "      <td>127.005586</td>\n",
       "      <td>37.533295</td>\n",
       "    </tr>\n",
       "    <tr>\n",
       "      <th>1</th>\n",
       "      <td>144026</td>\n",
       "      <td>2013097</td>\n",
       "      <td>1120010700</td>\n",
       "      <td>11200001</td>\n",
       "      <td>서울특별시 성동구1</td>\n",
       "      <td>서울특별시 성동구 행당동(무학여고앞 부근)</td>\n",
       "      <td>4</td>\n",
       "      <td>5</td>\n",
       "      <td>0</td>\n",
       "      <td>0</td>\n",
       "      <td>5</td>\n",
       "      <td>0</td>\n",
       "      <td>127.032724</td>\n",
       "      <td>37.558635</td>\n",
       "    </tr>\n",
       "    <tr>\n",
       "      <th>2</th>\n",
       "      <td>144027</td>\n",
       "      <td>2013097</td>\n",
       "      <td>1121510300</td>\n",
       "      <td>11215001</td>\n",
       "      <td>서울특별시 광진구1</td>\n",
       "      <td>서울특별시 광진구 구의동(슬기유치원앞 부근)</td>\n",
       "      <td>3</td>\n",
       "      <td>3</td>\n",
       "      <td>0</td>\n",
       "      <td>2</td>\n",
       "      <td>1</td>\n",
       "      <td>0</td>\n",
       "      <td>127.093095</td>\n",
       "      <td>37.552232</td>\n",
       "    </tr>\n",
       "    <tr>\n",
       "      <th>3</th>\n",
       "      <td>140161</td>\n",
       "      <td>2013097</td>\n",
       "      <td>1121510400</td>\n",
       "      <td>11215002</td>\n",
       "      <td>서울특별시 광진구2</td>\n",
       "      <td>서울특별시 광진구 광장동(광장사거리 부근)</td>\n",
       "      <td>5</td>\n",
       "      <td>5</td>\n",
       "      <td>0</td>\n",
       "      <td>1</td>\n",
       "      <td>3</td>\n",
       "      <td>1</td>\n",
       "      <td>127.103648</td>\n",
       "      <td>37.544331</td>\n",
       "    </tr>\n",
       "    <tr>\n",
       "      <th>4</th>\n",
       "      <td>138521</td>\n",
       "      <td>2013097</td>\n",
       "      <td>1126010300</td>\n",
       "      <td>11260001</td>\n",
       "      <td>서울특별시 중랑구1</td>\n",
       "      <td>서울특별시 중랑구 중화동(태능시장 부근)</td>\n",
       "      <td>3</td>\n",
       "      <td>3</td>\n",
       "      <td>0</td>\n",
       "      <td>0</td>\n",
       "      <td>2</td>\n",
       "      <td>1</td>\n",
       "      <td>127.076933</td>\n",
       "      <td>37.598100</td>\n",
       "    </tr>\n",
       "  </tbody>\n",
       "</table>\n",
       "</div>"
      ],
      "text/plain": [
       "   afos_fid  afos_id      bjd_cd   spot_cd sido_sgg_nm  \\\n",
       "0    138468  2013097  1117013100  11170001  서울특별시 용산구1   \n",
       "1    144026  2013097  1120010700  11200001  서울특별시 성동구1   \n",
       "2    144027  2013097  1121510300  11215001  서울특별시 광진구1   \n",
       "3    140161  2013097  1121510400  11215002  서울특별시 광진구2   \n",
       "4    138521  2013097  1126010300  11260001  서울특별시 중랑구1   \n",
       "\n",
       "                    spot_nm  occrrnc_cnt  caslt_cnt  dth_dnv_cnt  se_dnv_cnt  \\\n",
       "0   서울특별시 용산구 한남동(순천향병원 부근)            3          3            0           0   \n",
       "1   서울특별시 성동구 행당동(무학여고앞 부근)            4          5            0           0   \n",
       "2  서울특별시 광진구 구의동(슬기유치원앞 부근)            3          3            0           2   \n",
       "3   서울특별시 광진구 광장동(광장사거리 부근)            5          5            0           1   \n",
       "4    서울특별시 중랑구 중화동(태능시장 부근)            3          3            0           0   \n",
       "\n",
       "   sl_dnv_cnt  wnd_dnv_cnt      lo_crd     la_crd  \n",
       "0           2            1  127.005586  37.533295  \n",
       "1           5            0  127.032724  37.558635  \n",
       "2           1            0  127.093095  37.552232  \n",
       "3           3            1  127.103648  37.544331  \n",
       "4           2            1  127.076933  37.598100  "
      ]
     },
     "execution_count": 4,
     "metadata": {},
     "output_type": "execute_result"
    }
   ],
   "source": [
    "data.head()"
   ]
  },
  {
   "cell_type": "code",
   "execution_count": 5,
   "id": "fafc173d",
   "metadata": {},
   "outputs": [],
   "source": [
    "kmeans_data=data[['lo_crd','la_crd']]"
   ]
  },
  {
   "cell_type": "code",
   "execution_count": 6,
   "id": "13329cfa",
   "metadata": {},
   "outputs": [],
   "source": [
    "#특성공학\n",
    "def engineering(df):\n",
    "    #중복되는 특성을 제거해줍니다.\n",
    "    df.drop(['sido_sgg_nm','spot_nm', 'lo_crd', 'la_crd'], axis=1, inplace=True)\n",
    "    \n",
    "    #불필요한 특성을 제거해줍니다.\n",
    "    df.drop(['afos_fid'], axis=1, inplace=True)\n",
    "    \n",
    "    #target 특성을 제작합니다.\n",
    "    high_condition = df['occrrnc_cnt'] >= 5\n",
    "    low_condition = df['occrrnc_cnt'] <= 2\n",
    "    base = [1] * len(df) \n",
    "    df['target']= base\n",
    "    df.loc[df[high_condition].index,'target'] = 2\n",
    "    df.loc[df[low_condition].index,'target'] = 0\n",
    "    df.drop('occrrnc_cnt', axis=1, inplace=True)\n",
    "\n",
    "engineering(data)"
   ]
  },
  {
   "cell_type": "code",
   "execution_count": 7,
   "id": "b0547245",
   "metadata": {},
   "outputs": [
    {
     "data": {
      "text/html": [
       "<div>\n",
       "<style scoped>\n",
       "    .dataframe tbody tr th:only-of-type {\n",
       "        vertical-align: middle;\n",
       "    }\n",
       "\n",
       "    .dataframe tbody tr th {\n",
       "        vertical-align: top;\n",
       "    }\n",
       "\n",
       "    .dataframe thead th {\n",
       "        text-align: right;\n",
       "    }\n",
       "</style>\n",
       "<table border=\"1\" class=\"dataframe\">\n",
       "  <thead>\n",
       "    <tr style=\"text-align: right;\">\n",
       "      <th></th>\n",
       "      <th>afos_id</th>\n",
       "      <th>bjd_cd</th>\n",
       "      <th>spot_cd</th>\n",
       "      <th>caslt_cnt</th>\n",
       "      <th>dth_dnv_cnt</th>\n",
       "      <th>se_dnv_cnt</th>\n",
       "      <th>sl_dnv_cnt</th>\n",
       "      <th>wnd_dnv_cnt</th>\n",
       "      <th>target</th>\n",
       "    </tr>\n",
       "  </thead>\n",
       "  <tbody>\n",
       "    <tr>\n",
       "      <th>0</th>\n",
       "      <td>2013097</td>\n",
       "      <td>1117013100</td>\n",
       "      <td>11170001</td>\n",
       "      <td>3</td>\n",
       "      <td>0</td>\n",
       "      <td>0</td>\n",
       "      <td>2</td>\n",
       "      <td>1</td>\n",
       "      <td>1</td>\n",
       "    </tr>\n",
       "    <tr>\n",
       "      <th>1</th>\n",
       "      <td>2013097</td>\n",
       "      <td>1120010700</td>\n",
       "      <td>11200001</td>\n",
       "      <td>5</td>\n",
       "      <td>0</td>\n",
       "      <td>0</td>\n",
       "      <td>5</td>\n",
       "      <td>0</td>\n",
       "      <td>1</td>\n",
       "    </tr>\n",
       "    <tr>\n",
       "      <th>2</th>\n",
       "      <td>2013097</td>\n",
       "      <td>1121510300</td>\n",
       "      <td>11215001</td>\n",
       "      <td>3</td>\n",
       "      <td>0</td>\n",
       "      <td>2</td>\n",
       "      <td>1</td>\n",
       "      <td>0</td>\n",
       "      <td>1</td>\n",
       "    </tr>\n",
       "    <tr>\n",
       "      <th>3</th>\n",
       "      <td>2013097</td>\n",
       "      <td>1121510400</td>\n",
       "      <td>11215002</td>\n",
       "      <td>5</td>\n",
       "      <td>0</td>\n",
       "      <td>1</td>\n",
       "      <td>3</td>\n",
       "      <td>1</td>\n",
       "      <td>2</td>\n",
       "    </tr>\n",
       "    <tr>\n",
       "      <th>4</th>\n",
       "      <td>2013097</td>\n",
       "      <td>1126010300</td>\n",
       "      <td>11260001</td>\n",
       "      <td>3</td>\n",
       "      <td>0</td>\n",
       "      <td>0</td>\n",
       "      <td>2</td>\n",
       "      <td>1</td>\n",
       "      <td>1</td>\n",
       "    </tr>\n",
       "  </tbody>\n",
       "</table>\n",
       "</div>"
      ],
      "text/plain": [
       "   afos_id      bjd_cd   spot_cd  caslt_cnt  dth_dnv_cnt  se_dnv_cnt  \\\n",
       "0  2013097  1117013100  11170001          3            0           0   \n",
       "1  2013097  1120010700  11200001          5            0           0   \n",
       "2  2013097  1121510300  11215001          3            0           2   \n",
       "3  2013097  1121510400  11215002          5            0           1   \n",
       "4  2013097  1126010300  11260001          3            0           0   \n",
       "\n",
       "   sl_dnv_cnt  wnd_dnv_cnt  target  \n",
       "0           2            1       1  \n",
       "1           5            0       1  \n",
       "2           1            0       1  \n",
       "3           3            1       2  \n",
       "4           2            1       1  "
      ]
     },
     "execution_count": 7,
     "metadata": {},
     "output_type": "execute_result"
    }
   ],
   "source": [
    "data.head()"
   ]
  },
  {
   "cell_type": "markdown",
   "id": "b94caf7f",
   "metadata": {},
   "source": [
    "사고 발생 횟수가 3회인 다발지역이 가장 많다. 따라서 0~2를 위험도 낮은 지역으로 잡으면 될 것 같다.\n",
    "3회 이상인 부분은 위험도 높은 지역으로 생각하면 될 것 같다."
   ]
  },
  {
   "cell_type": "code",
   "execution_count": 8,
   "id": "422f07ec",
   "metadata": {},
   "outputs": [
    {
     "data": {
      "text/plain": [
       "<AxesSubplot:ylabel='Frequency'>"
      ]
     },
     "execution_count": 8,
     "metadata": {},
     "output_type": "execute_result"
    },
    {
     "data": {
      "image/png": "[encoded data removed]",
      "text/plain": [
       "<Figure size 432x288 with 1 Axes>"
      ]
     },
     "metadata": {
      "needs_background": "light"
     },
     "output_type": "display_data"
    }
   ],
   "source": [
    "data['target'].plot.hist()"
   ]
  },
  {
   "cell_type": "markdown",
   "id": "470203bf",
   "metadata": {},
   "source": [
    "# 모델링작업"
   ]
  },
  {
   "cell_type": "code",
   "execution_count": 9,
   "id": "b458a5c1",
   "metadata": {},
   "outputs": [],
   "source": [
    "from sklearn.ensemble import RandomForestClassifier\n",
    "from sklearn.model_selection import train_test_split\n",
    "from sklearn.model_selection import GridSearchCV\n",
    "from sklearn.metrics import classification_report"
   ]
  },
  {
   "cell_type": "code",
   "execution_count": 10,
   "id": "de5d4542",
   "metadata": {},
   "outputs": [
    {
     "name": "stdout",
     "output_type": "stream",
     "text": [
      "(1052, 8) (1052,)\n",
      "(263, 8) (263,)\n"
     ]
    }
   ],
   "source": [
    "#데이터셋 분리\n",
    "train, test = train_test_split(data, train_size=0.8, test_size= 0.2, random_state=42)\n",
    "\n",
    "target='target'\n",
    "\n",
    "y_train = train[target]\n",
    "X_train = train.drop(target, axis= 1)\n",
    "\n",
    "y_test = test[target]\n",
    "X_test = test.drop(target, axis= 1)\n",
    "\n",
    "print(X_train.shape,y_train.shape)\n",
    "print(X_test.shape,y_test.shape)"
   ]
  },
  {
   "cell_type": "code",
   "execution_count": 11,
   "id": "f0129233",
   "metadata": {},
   "outputs": [
    {
     "name": "stdout",
     "output_type": "stream",
     "text": [
      "Fitting 3 folds for each of 30 candidates, totalling 90 fits\n"
     ]
    },
    {
     "name": "stderr",
     "output_type": "stream",
     "text": [
      "C:\\Users\\dgfs5\\anaconda3\\envs\\project3\\lib\\site-packages\\sklearn\\ensemble\\_forest.py:560: UserWarning: Some inputs do not have OOB scores. This probably means too few trees were used to compute any reliable OOB estimates.\n",
      "  warn(\n"
     ]
    },
    {
     "data": {
      "text/plain": [
       "GridSearchCV(cv=3,\n",
       "             estimator=RandomForestClassifier(class_weight='balanced',\n",
       "                                              n_jobs=-1, oob_score=True,\n",
       "                                              random_state=42),\n",
       "             n_jobs=-1,\n",
       "             param_grid={'max_depth': [10, 15, 20, 25, 30],\n",
       "                         'n_estimators': [1, 5, 10, 30, 50, 100]},\n",
       "             scoring='accuracy', verbose=1)"
      ]
     },
     "execution_count": 11,
     "metadata": {},
     "output_type": "execute_result"
    }
   ],
   "source": [
    "rf= RandomForestClassifier(oob_score=True, n_jobs=-1, random_state=42, class_weight=\"balanced\")\n",
    "\n",
    "dists={\n",
    "    \"n_estimators\": [1,5,10,30,50,100],\n",
    "    \"max_depth\": [10, 15, 20, 25, 30]\n",
    "}\n",
    "\n",
    "rscv = GridSearchCV(estimator=rf, param_grid=dists,\n",
    "                         scoring=\"accuracy\",\n",
    "                         n_jobs=-1,\n",
    "                         verbose=1,\n",
    "                         cv= 3)\n",
    "rscv.fit(X_train,y_train)"
   ]
  },
  {
   "cell_type": "code",
   "execution_count": 12,
   "id": "c4f2801f",
   "metadata": {
    "scrolled": true
   },
   "outputs": [
    {
     "name": "stdout",
     "output_type": "stream",
     "text": [
      "              precision    recall  f1-score   support\n",
      "\n",
      "           0       1.00      0.96      0.98       250\n",
      "           1       0.99      0.99      0.99       736\n",
      "           2       0.85      0.97      0.91        66\n",
      "\n",
      "    accuracy                           0.98      1052\n",
      "   macro avg       0.95      0.97      0.96      1052\n",
      "weighted avg       0.98      0.98      0.98      1052\n",
      "\n"
     ]
    }
   ],
   "source": [
    "model = rscv.best_estimator_\n",
    "\n",
    "print(classification_report(y_train, model.predict(X_train)))"
   ]
  },
  {
   "cell_type": "code",
   "execution_count": 13,
   "id": "3152ee8f",
   "metadata": {},
   "outputs": [
    {
     "name": "stdout",
     "output_type": "stream",
     "text": [
      "              precision    recall  f1-score   support\n",
      "\n",
      "           0       0.98      0.91      0.95        58\n",
      "           1       0.96      0.97      0.96       193\n",
      "           2       0.64      0.75      0.69        12\n",
      "\n",
      "    accuracy                           0.95       263\n",
      "   macro avg       0.86      0.88      0.87       263\n",
      "weighted avg       0.95      0.95      0.95       263\n",
      "\n"
     ]
    }
   ],
   "source": [
    "print(classification_report(y_test, model.predict(X_test)))"
   ]
  },
  {
   "cell_type": "code",
   "execution_count": 31,
   "id": "338fe3dc",
   "metadata": {},
   "outputs": [
    {
     "data": {
      "text/plain": [
       "array([1, 0, 1, 1, 1, 0, 1, 0, 1, 0, 1, 1, 0, 0, 2, 1, 1, 1, 1, 1, 1, 1,\n",
       "       1, 0, 2, 1, 1, 1, 1, 1, 1, 1, 0, 1, 2, 1, 1, 1, 0, 0, 2, 1, 1, 0,\n",
       "       0, 1, 1, 1, 1, 1, 0, 0, 1, 0, 1, 1, 2, 1, 1, 1, 1, 1, 1, 0, 1, 0,\n",
       "       1, 1, 1, 2, 0, 0, 0, 1, 1, 1, 2, 1, 1, 1, 0, 1, 1, 1, 1, 1, 1, 1,\n",
       "       1, 1, 1, 0, 1, 1, 1, 1, 1, 1, 1, 0, 1, 1, 1, 1, 1, 1, 0, 2, 1, 2,\n",
       "       1, 1, 2, 1, 1, 1, 1, 0, 1, 1, 1, 1, 1, 1, 1, 0, 1, 0, 1, 1, 1, 1,\n",
       "       1, 1, 0, 1, 1, 1, 0, 1, 1, 0, 1, 1, 1, 0, 1, 1, 1, 1, 1, 1, 1, 1,\n",
       "       1, 1, 0, 0, 0, 1, 0, 1, 1, 0, 0, 0, 1, 1, 1, 0, 1, 0, 1, 1, 1, 1,\n",
       "       0, 1, 1, 1, 1, 1, 2, 1, 1, 1, 1, 1, 1, 0, 0, 1, 0, 1, 1, 0, 1, 1,\n",
       "       1, 1, 1, 1, 1, 1, 0, 0, 1, 0, 0, 1, 1, 1, 1, 0, 1, 1, 1, 1, 1, 1,\n",
       "       1, 1, 0, 1, 2, 1, 1, 1, 1, 1, 1, 1, 1, 1, 1, 1, 1, 1, 2, 1, 1, 1,\n",
       "       0, 1, 1, 1, 1, 0, 2, 1, 1, 1, 1, 1, 1, 1, 1, 1, 1, 1, 1, 1, 0],\n",
       "      dtype=int64)"
      ]
     },
     "execution_count": 31,
     "metadata": {},
     "output_type": "execute_result"
    }
   ],
   "source": [
    "model.predict(X_test)"
   ]
  },
  {
   "cell_type": "code",
   "execution_count": null,
   "id": "5c01ec08",
   "metadata": {},
   "outputs": [],
   "source": [
    "pd.DataFrame"
   ]
  },
  {
   "cell_type": "code",
   "execution_count": 14,
   "id": "228636c9",
   "metadata": {},
   "outputs": [
    {
     "data": {
      "text/html": [
       "<div>\n",
       "<style scoped>\n",
       "    .dataframe tbody tr th:only-of-type {\n",
       "        vertical-align: middle;\n",
       "    }\n",
       "\n",
       "    .dataframe tbody tr th {\n",
       "        vertical-align: top;\n",
       "    }\n",
       "\n",
       "    .dataframe thead th {\n",
       "        text-align: right;\n",
       "    }\n",
       "</style>\n",
       "<table border=\"1\" class=\"dataframe\">\n",
       "  <thead>\n",
       "    <tr style=\"text-align: right;\">\n",
       "      <th></th>\n",
       "      <th>afos_id</th>\n",
       "      <th>bjd_cd</th>\n",
       "      <th>spot_cd</th>\n",
       "      <th>caslt_cnt</th>\n",
       "      <th>dth_dnv_cnt</th>\n",
       "      <th>se_dnv_cnt</th>\n",
       "      <th>sl_dnv_cnt</th>\n",
       "      <th>wnd_dnv_cnt</th>\n",
       "    </tr>\n",
       "  </thead>\n",
       "  <tbody>\n",
       "    <tr>\n",
       "      <th>209</th>\n",
       "      <td>2014110</td>\n",
       "      <td>1130510200</td>\n",
       "      <td>11305003</td>\n",
       "      <td>3</td>\n",
       "      <td>0</td>\n",
       "      <td>0</td>\n",
       "      <td>3</td>\n",
       "      <td>0</td>\n",
       "    </tr>\n",
       "    <tr>\n",
       "      <th>312</th>\n",
       "      <td>2014110</td>\n",
       "      <td>4514012200</td>\n",
       "      <td>45140001</td>\n",
       "      <td>4</td>\n",
       "      <td>0</td>\n",
       "      <td>2</td>\n",
       "      <td>2</td>\n",
       "      <td>0</td>\n",
       "    </tr>\n",
       "    <tr>\n",
       "      <th>140</th>\n",
       "      <td>2013097</td>\n",
       "      <td>4425031500</td>\n",
       "      <td>44250001</td>\n",
       "      <td>3</td>\n",
       "      <td>0</td>\n",
       "      <td>1</td>\n",
       "      <td>2</td>\n",
       "      <td>0</td>\n",
       "    </tr>\n",
       "    <tr>\n",
       "      <th>905</th>\n",
       "      <td>2020016</td>\n",
       "      <td>4311210600</td>\n",
       "      <td>43112001</td>\n",
       "      <td>3</td>\n",
       "      <td>0</td>\n",
       "      <td>1</td>\n",
       "      <td>2</td>\n",
       "      <td>0</td>\n",
       "    </tr>\n",
       "    <tr>\n",
       "      <th>783</th>\n",
       "      <td>2019035</td>\n",
       "      <td>2623010900</td>\n",
       "      <td>26230001</td>\n",
       "      <td>5</td>\n",
       "      <td>0</td>\n",
       "      <td>2</td>\n",
       "      <td>2</td>\n",
       "      <td>1</td>\n",
       "    </tr>\n",
       "  </tbody>\n",
       "</table>\n",
       "</div>"
      ],
      "text/plain": [
       "     afos_id      bjd_cd   spot_cd  caslt_cnt  dth_dnv_cnt  se_dnv_cnt  \\\n",
       "209  2014110  1130510200  11305003          3            0           0   \n",
       "312  2014110  4514012200  45140001          4            0           2   \n",
       "140  2013097  4425031500  44250001          3            0           1   \n",
       "905  2020016  4311210600  43112001          3            0           1   \n",
       "783  2019035  2623010900  26230001          5            0           2   \n",
       "\n",
       "     sl_dnv_cnt  wnd_dnv_cnt  \n",
       "209           3            0  \n",
       "312           2            0  \n",
       "140           2            0  \n",
       "905           2            0  \n",
       "783           2            1  "
      ]
     },
     "execution_count": 14,
     "metadata": {},
     "output_type": "execute_result"
    }
   ],
   "source": [
    "X_train.head()"
   ]
  },
  {
   "cell_type": "code",
   "execution_count": 15,
   "id": "bfb2437b",
   "metadata": {},
   "outputs": [
    {
     "data": {
      "text/html": [
       "<div>\n",
       "<style scoped>\n",
       "    .dataframe tbody tr th:only-of-type {\n",
       "        vertical-align: middle;\n",
       "    }\n",
       "\n",
       "    .dataframe tbody tr th {\n",
       "        vertical-align: top;\n",
       "    }\n",
       "\n",
       "    .dataframe thead th {\n",
       "        text-align: right;\n",
       "    }\n",
       "</style>\n",
       "<table border=\"1\" class=\"dataframe\">\n",
       "  <thead>\n",
       "    <tr style=\"text-align: right;\">\n",
       "      <th></th>\n",
       "      <th>afos_id</th>\n",
       "      <th>bjd_cd</th>\n",
       "      <th>spot_cd</th>\n",
       "      <th>caslt_cnt</th>\n",
       "      <th>dth_dnv_cnt</th>\n",
       "      <th>se_dnv_cnt</th>\n",
       "      <th>sl_dnv_cnt</th>\n",
       "      <th>wnd_dnv_cnt</th>\n",
       "      <th>target</th>\n",
       "    </tr>\n",
       "  </thead>\n",
       "  <tbody>\n",
       "    <tr>\n",
       "      <th>0</th>\n",
       "      <td>2013097</td>\n",
       "      <td>1117013100</td>\n",
       "      <td>11170001</td>\n",
       "      <td>3</td>\n",
       "      <td>0</td>\n",
       "      <td>0</td>\n",
       "      <td>2</td>\n",
       "      <td>1</td>\n",
       "      <td>1</td>\n",
       "    </tr>\n",
       "    <tr>\n",
       "      <th>1</th>\n",
       "      <td>2013097</td>\n",
       "      <td>1120010700</td>\n",
       "      <td>11200001</td>\n",
       "      <td>5</td>\n",
       "      <td>0</td>\n",
       "      <td>0</td>\n",
       "      <td>5</td>\n",
       "      <td>0</td>\n",
       "      <td>1</td>\n",
       "    </tr>\n",
       "    <tr>\n",
       "      <th>2</th>\n",
       "      <td>2013097</td>\n",
       "      <td>1121510300</td>\n",
       "      <td>11215001</td>\n",
       "      <td>3</td>\n",
       "      <td>0</td>\n",
       "      <td>2</td>\n",
       "      <td>1</td>\n",
       "      <td>0</td>\n",
       "      <td>1</td>\n",
       "    </tr>\n",
       "    <tr>\n",
       "      <th>3</th>\n",
       "      <td>2013097</td>\n",
       "      <td>1121510400</td>\n",
       "      <td>11215002</td>\n",
       "      <td>5</td>\n",
       "      <td>0</td>\n",
       "      <td>1</td>\n",
       "      <td>3</td>\n",
       "      <td>1</td>\n",
       "      <td>2</td>\n",
       "    </tr>\n",
       "    <tr>\n",
       "      <th>4</th>\n",
       "      <td>2013097</td>\n",
       "      <td>1126010300</td>\n",
       "      <td>11260001</td>\n",
       "      <td>3</td>\n",
       "      <td>0</td>\n",
       "      <td>0</td>\n",
       "      <td>2</td>\n",
       "      <td>1</td>\n",
       "      <td>1</td>\n",
       "    </tr>\n",
       "  </tbody>\n",
       "</table>\n",
       "</div>"
      ],
      "text/plain": [
       "   afos_id      bjd_cd   spot_cd  caslt_cnt  dth_dnv_cnt  se_dnv_cnt  \\\n",
       "0  2013097  1117013100  11170001          3            0           0   \n",
       "1  2013097  1120010700  11200001          5            0           0   \n",
       "2  2013097  1121510300  11215001          3            0           2   \n",
       "3  2013097  1121510400  11215002          5            0           1   \n",
       "4  2013097  1126010300  11260001          3            0           0   \n",
       "\n",
       "   sl_dnv_cnt  wnd_dnv_cnt  target  \n",
       "0           2            1       1  \n",
       "1           5            0       1  \n",
       "2           1            0       1  \n",
       "3           3            1       2  \n",
       "4           2            1       1  "
      ]
     },
     "execution_count": 15,
     "metadata": {},
     "output_type": "execute_result"
    }
   ],
   "source": [
    "data.head()"
   ]
  },
  {
   "cell_type": "code",
   "execution_count": 16,
   "id": "372343d2",
   "metadata": {},
   "outputs": [
    {
     "name": "stderr",
     "output_type": "stream",
     "text": [
      "C:\\Users\\dgfs5\\anaconda3\\envs\\project3\\lib\\site-packages\\seaborn\\_decorators.py:36: FutureWarning: Pass the following variable as a keyword arg: x. From version 0.12, the only valid positional argument will be `data`, and passing other arguments without an explicit keyword will result in an error or misinterpretation.\n",
      "  warnings.warn(\n"
     ]
    },
    {
     "data": {
      "image/png": "[encoded data removed]",
      "text/plain": [
       "<Figure size 1152x720 with 1 Axes>"
      ]
     },
     "metadata": {
      "needs_background": "light"
     },
     "output_type": "display_data"
    }
   ],
   "source": [
    "#데이터 누수?\n",
    "\n",
    "plt.figure(figsize=(16, 10))\n",
    "sns.countplot('caslt_cnt', hue= 'target',data=data)\n",
    "plt.show()"
   ]
  },
  {
   "cell_type": "code",
   "execution_count": 17,
   "id": "81325b94",
   "metadata": {},
   "outputs": [
    {
     "name": "stderr",
     "output_type": "stream",
     "text": [
      "C:\\Users\\dgfs5\\anaconda3\\envs\\project3\\lib\\site-packages\\seaborn\\_decorators.py:36: FutureWarning: Pass the following variable as a keyword arg: x. From version 0.12, the only valid positional argument will be `data`, and passing other arguments without an explicit keyword will result in an error or misinterpretation.\n",
      "  warnings.warn(\n"
     ]
    },
    {
     "data": {
      "text/plain": [
       "<AxesSubplot:xlabel='target', ylabel='count'>"
      ]
     },
     "execution_count": 17,
     "metadata": {},
     "output_type": "execute_result"
    },
    {
     "data": {
      "image/png": "[encoded data removed]",
      "text/plain": [
       "<Figure size 1152x720 with 1 Axes>"
      ]
     },
     "metadata": {
      "needs_background": "light"
     },
     "output_type": "display_data"
    }
   ],
   "source": [
    "plt.figure(figsize=(16, 10))\n",
    "sns.countplot('target', hue= 'caslt_cnt',data=data)"
   ]
  },
  {
   "cell_type": "code",
   "execution_count": 18,
   "id": "61cfdca3",
   "metadata": {},
   "outputs": [
    {
     "data": {
      "text/plain": [
       "<AxesSubplot:>"
      ]
     },
     "execution_count": 18,
     "metadata": {},
     "output_type": "execute_result"
    },
    {
     "data": {
      "image/png": "[encoded data removed]",
      "text/plain": [
       "<Figure size 432x288 with 2 Axes>"
      ]
     },
     "metadata": {
      "needs_background": "light"
     },
     "output_type": "display_data"
    }
   ],
   "source": [
    "sns.heatmap(data=data.corr())"
   ]
  },
  {
   "cell_type": "code",
   "execution_count": 19,
   "id": "4ca7805b",
   "metadata": {
    "scrolled": true
   },
   "outputs": [
    {
     "data": {
      "text/html": [
       "<div>\n",
       "<style scoped>\n",
       "    .dataframe tbody tr th:only-of-type {\n",
       "        vertical-align: middle;\n",
       "    }\n",
       "\n",
       "    .dataframe tbody tr th {\n",
       "        vertical-align: top;\n",
       "    }\n",
       "\n",
       "    .dataframe thead th {\n",
       "        text-align: right;\n",
       "    }\n",
       "</style>\n",
       "<table border=\"1\" class=\"dataframe\">\n",
       "  <thead>\n",
       "    <tr style=\"text-align: right;\">\n",
       "      <th></th>\n",
       "      <th>lo_crd</th>\n",
       "      <th>la_crd</th>\n",
       "    </tr>\n",
       "  </thead>\n",
       "  <tbody>\n",
       "    <tr>\n",
       "      <th>0</th>\n",
       "      <td>127.005586</td>\n",
       "      <td>37.533295</td>\n",
       "    </tr>\n",
       "    <tr>\n",
       "      <th>1</th>\n",
       "      <td>127.032724</td>\n",
       "      <td>37.558635</td>\n",
       "    </tr>\n",
       "    <tr>\n",
       "      <th>2</th>\n",
       "      <td>127.093095</td>\n",
       "      <td>37.552232</td>\n",
       "    </tr>\n",
       "    <tr>\n",
       "      <th>3</th>\n",
       "      <td>127.103648</td>\n",
       "      <td>37.544331</td>\n",
       "    </tr>\n",
       "    <tr>\n",
       "      <th>4</th>\n",
       "      <td>127.076933</td>\n",
       "      <td>37.598100</td>\n",
       "    </tr>\n",
       "    <tr>\n",
       "      <th>...</th>\n",
       "      <td>...</td>\n",
       "      <td>...</td>\n",
       "    </tr>\n",
       "    <tr>\n",
       "      <th>1310</th>\n",
       "      <td>129.229277</td>\n",
       "      <td>35.847847</td>\n",
       "    </tr>\n",
       "    <tr>\n",
       "      <th>1311</th>\n",
       "      <td>128.692913</td>\n",
       "      <td>36.560284</td>\n",
       "    </tr>\n",
       "    <tr>\n",
       "      <th>1312</th>\n",
       "      <td>127.909665</td>\n",
       "      <td>35.688295</td>\n",
       "    </tr>\n",
       "    <tr>\n",
       "      <th>1313</th>\n",
       "      <td>126.401987</td>\n",
       "      <td>33.480252</td>\n",
       "    </tr>\n",
       "    <tr>\n",
       "      <th>1314</th>\n",
       "      <td>126.477108</td>\n",
       "      <td>33.492358</td>\n",
       "    </tr>\n",
       "  </tbody>\n",
       "</table>\n",
       "<p>1315 rows × 2 columns</p>\n",
       "</div>"
      ],
      "text/plain": [
       "          lo_crd     la_crd\n",
       "0     127.005586  37.533295\n",
       "1     127.032724  37.558635\n",
       "2     127.093095  37.552232\n",
       "3     127.103648  37.544331\n",
       "4     127.076933  37.598100\n",
       "...          ...        ...\n",
       "1310  129.229277  35.847847\n",
       "1311  128.692913  36.560284\n",
       "1312  127.909665  35.688295\n",
       "1313  126.401987  33.480252\n",
       "1314  126.477108  33.492358\n",
       "\n",
       "[1315 rows x 2 columns]"
      ]
     },
     "execution_count": 19,
     "metadata": {},
     "output_type": "execute_result"
    }
   ],
   "source": [
    "kmeans_data"
   ]
  },
  {
   "cell_type": "code",
   "execution_count": 20,
   "id": "84067434",
   "metadata": {},
   "outputs": [],
   "source": [
    "from sklearn.cluster import KMeans"
   ]
  },
  {
   "cell_type": "code",
   "execution_count": 21,
   "id": "c969640c",
   "metadata": {},
   "outputs": [
    {
     "data": {
      "text/plain": [
       "<AxesSubplot:xlabel='lo_crd', ylabel='la_crd'>"
      ]
     },
     "execution_count": 21,
     "metadata": {},
     "output_type": "execute_result"
    },
    {
     "data": {
      "image/png": "[encoded data removed]",
      "text/plain": [
       "<Figure size 432x288 with 1 Axes>"
      ]
     },
     "metadata": {
      "needs_background": "light"
     },
     "output_type": "display_data"
    }
   ],
   "source": [
    "sns.scatterplot(x=kmeans_data['lo_crd'], y=kmeans_data['la_crd'])"
   ]
  },
  {
   "cell_type": "code",
   "execution_count": 22,
   "id": "591b81b7",
   "metadata": {},
   "outputs": [],
   "source": [
    "sum_of_distance=[]\n",
    "for i in range(1,20):\n",
    "    kmeans= KMeans(n_clusters=i)\n",
    "    kmeans.fit(kmeans_data)\n",
    "    sum_of_distance.append(kmeans.inertia_) "
   ]
  },
  {
   "cell_type": "code",
   "execution_count": 23,
   "id": "b792ca34",
   "metadata": {},
   "outputs": [
    {
     "data": {
      "image/png": "[encoded data removed]",
      "text/plain": [
       "<Figure size 432x288 with 1 Axes>"
      ]
     },
     "metadata": {
      "needs_background": "light"
     },
     "output_type": "display_data"
    }
   ],
   "source": [
    "plt.plot(range(1,20,1), sum_of_distance, 'bx-')\n",
    "plt.xlabel('i')\n",
    "plt.ylabel('Sum_of_squared_distances')\n",
    "plt.title('Elbow Method For Optimal k')\n",
    "plt.show()"
   ]
  },
  {
   "cell_type": "code",
   "execution_count": 38,
   "id": "155ac02a",
   "metadata": {
    "scrolled": true
   },
   "outputs": [
    {
     "data": {
      "text/html": [
       "<div>\n",
       "<style scoped>\n",
       "    .dataframe tbody tr th:only-of-type {\n",
       "        vertical-align: middle;\n",
       "    }\n",
       "\n",
       "    .dataframe tbody tr th {\n",
       "        vertical-align: top;\n",
       "    }\n",
       "\n",
       "    .dataframe thead th {\n",
       "        text-align: right;\n",
       "    }\n",
       "</style>\n",
       "<table border=\"1\" class=\"dataframe\">\n",
       "  <thead>\n",
       "    <tr style=\"text-align: right;\">\n",
       "      <th></th>\n",
       "      <th>lo_crd</th>\n",
       "      <th>la_crd</th>\n",
       "      <th>label</th>\n",
       "    </tr>\n",
       "  </thead>\n",
       "  <tbody>\n",
       "    <tr>\n",
       "      <th>0</th>\n",
       "      <td>127.005586</td>\n",
       "      <td>37.533295</td>\n",
       "      <td>0</td>\n",
       "    </tr>\n",
       "    <tr>\n",
       "      <th>1</th>\n",
       "      <td>127.032724</td>\n",
       "      <td>37.558635</td>\n",
       "      <td>0</td>\n",
       "    </tr>\n",
       "    <tr>\n",
       "      <th>2</th>\n",
       "      <td>127.093095</td>\n",
       "      <td>37.552232</td>\n",
       "      <td>0</td>\n",
       "    </tr>\n",
       "    <tr>\n",
       "      <th>3</th>\n",
       "      <td>127.103648</td>\n",
       "      <td>37.544331</td>\n",
       "      <td>0</td>\n",
       "    </tr>\n",
       "    <tr>\n",
       "      <th>4</th>\n",
       "      <td>127.076933</td>\n",
       "      <td>37.598100</td>\n",
       "      <td>0</td>\n",
       "    </tr>\n",
       "    <tr>\n",
       "      <th>...</th>\n",
       "      <td>...</td>\n",
       "      <td>...</td>\n",
       "      <td>...</td>\n",
       "    </tr>\n",
       "    <tr>\n",
       "      <th>1310</th>\n",
       "      <td>129.229277</td>\n",
       "      <td>35.847847</td>\n",
       "      <td>4</td>\n",
       "    </tr>\n",
       "    <tr>\n",
       "      <th>1311</th>\n",
       "      <td>128.692913</td>\n",
       "      <td>36.560284</td>\n",
       "      <td>4</td>\n",
       "    </tr>\n",
       "    <tr>\n",
       "      <th>1312</th>\n",
       "      <td>127.909665</td>\n",
       "      <td>35.688295</td>\n",
       "      <td>4</td>\n",
       "    </tr>\n",
       "    <tr>\n",
       "      <th>1313</th>\n",
       "      <td>126.401987</td>\n",
       "      <td>33.480252</td>\n",
       "      <td>3</td>\n",
       "    </tr>\n",
       "    <tr>\n",
       "      <th>1314</th>\n",
       "      <td>126.477108</td>\n",
       "      <td>33.492358</td>\n",
       "      <td>3</td>\n",
       "    </tr>\n",
       "  </tbody>\n",
       "</table>\n",
       "<p>1315 rows × 3 columns</p>\n",
       "</div>"
      ],
      "text/plain": [
       "          lo_crd     la_crd  label\n",
       "0     127.005586  37.533295      0\n",
       "1     127.032724  37.558635      0\n",
       "2     127.093095  37.552232      0\n",
       "3     127.103648  37.544331      0\n",
       "4     127.076933  37.598100      0\n",
       "...          ...        ...    ...\n",
       "1310  129.229277  35.847847      4\n",
       "1311  128.692913  36.560284      4\n",
       "1312  127.909665  35.688295      4\n",
       "1313  126.401987  33.480252      3\n",
       "1314  126.477108  33.492358      3\n",
       "\n",
       "[1315 rows x 3 columns]"
      ]
     },
     "execution_count": 38,
     "metadata": {},
     "output_type": "execute_result"
    }
   ],
   "source": [
    "final= KMeans(n_clusters=5)\n",
    "last= final.fit(kmeans_data)\n",
    "label= final.labels_\n",
    "\n",
    "cluster_data= kmeans_data.copy()\n",
    "cluster_data['label']= label\n",
    "\n",
    "cluster_data"
   ]
  },
  {
   "cell_type": "code",
   "execution_count": 25,
   "id": "9bfd7dc7",
   "metadata": {},
   "outputs": [
    {
     "data": {
      "text/plain": [
       "1    541\n",
       "0    341\n",
       "2    203\n",
       "3    169\n",
       "4     61\n",
       "Name: label, dtype: int64"
      ]
     },
     "execution_count": 25,
     "metadata": {},
     "output_type": "execute_result"
    }
   ],
   "source": [
    "cluster_data['label'].value_counts()"
   ]
  },
  {
   "cell_type": "code",
   "execution_count": 39,
   "id": "a160f9ee",
   "metadata": {
    "scrolled": true
   },
   "outputs": [
    {
     "data": {
      "text/plain": [
       "<AxesSubplot:xlabel='lo_crd', ylabel='la_crd'>"
      ]
     },
     "execution_count": 39,
     "metadata": {},
     "output_type": "execute_result"
    },
    {
     "data": {
      "image/png": "[encoded data removed]",
      "text/plain": [
       "<Figure size 1152x720 with 1 Axes>"
      ]
     },
     "metadata": {
      "needs_background": "light"
     },
     "output_type": "display_data"
    }
   ],
   "source": [
    "plt.figure(figsize=(16, 10))\n",
    "sns.scatterplot(x=kmeans_data['lo_crd'], y=kmeans_data['la_crd'], hue= cluster_data['label'])"
   ]
  },
  {
   "cell_type": "code",
   "execution_count": 27,
   "id": "b52380f8",
   "metadata": {},
   "outputs": [
    {
     "data": {
      "text/html": [
       "<div>\n",
       "<style scoped>\n",
       "    .dataframe tbody tr th:only-of-type {\n",
       "        vertical-align: middle;\n",
       "    }\n",
       "\n",
       "    .dataframe tbody tr th {\n",
       "        vertical-align: top;\n",
       "    }\n",
       "\n",
       "    .dataframe thead th {\n",
       "        text-align: right;\n",
       "    }\n",
       "</style>\n",
       "<table border=\"1\" class=\"dataframe\">\n",
       "  <thead>\n",
       "    <tr style=\"text-align: right;\">\n",
       "      <th></th>\n",
       "      <th>0</th>\n",
       "      <th>1</th>\n",
       "    </tr>\n",
       "  </thead>\n",
       "  <tbody>\n",
       "    <tr>\n",
       "      <th>0</th>\n",
       "      <td>128.637434</td>\n",
       "      <td>88746268</td>\n",
       "    </tr>\n",
       "  </tbody>\n",
       "</table>\n",
       "</div>"
      ],
      "text/plain": [
       "            0         1\n",
       "0  128.637434  88746268"
      ]
     },
     "execution_count": 27,
     "metadata": {},
     "output_type": "execute_result"
    }
   ],
   "source": [
    "pd.DataFrame([[128.6374338,88746268]])"
   ]
  },
  {
   "cell_type": "code",
   "execution_count": 41,
   "id": "7f24209e",
   "metadata": {},
   "outputs": [
    {
     "name": "stderr",
     "output_type": "stream",
     "text": [
      "C:\\Users\\dgfs5\\anaconda3\\envs\\project3\\lib\\site-packages\\sklearn\\base.py:450: UserWarning: X does not have valid feature names, but KMeans was fitted with feature names\n",
      "  warnings.warn(\n"
     ]
    },
    {
     "data": {
      "text/plain": [
       "3"
      ]
     },
     "execution_count": 41,
     "metadata": {},
     "output_type": "execute_result"
    }
   ],
   "source": [
    "final.predict([[126.714628,33.31111895]])[0]"
   ]
  },
  {
   "cell_type": "code",
   "execution_count": 29,
   "id": "8b7266b7",
   "metadata": {},
   "outputs": [
    {
     "data": {
      "text/plain": [
       "1    541\n",
       "0    341\n",
       "2    203\n",
       "3    169\n",
       "4     61\n",
       "Name: label, dtype: int64"
      ]
     },
     "execution_count": 29,
     "metadata": {},
     "output_type": "execute_result"
    }
   ],
   "source": [
    "cluster_data['label'].value_counts()"
   ]
  },
  {
   "cell_type": "code",
   "execution_count": 40,
   "id": "9a69b6c8",
   "metadata": {},
   "outputs": [],
   "source": [
    "\n",
    "\n",
    "#cluster 모델 피클링\n",
    "#import pickle\n",
    "\n",
    "#with open('./model.pkl', 'wb') as pickle_file:\n",
    "#    pickle.dump(final, pickle_file)"
   ]
  }
 ],
 "metadata": {
  "kernelspec": {
   "display_name": "Python 3 (ipykernel)",
   "language": "python",
   "name": "python3"
  },
  "language_info": {
   "codemirror_mode": {
    "name": "ipython",
    "version": 3
   },
   "file_extension": ".py",
   "mimetype": "text/x-python",
   "name": "python",
   "nbconvert_exporter": "python",
   "pygments_lexer": "ipython3",
   "version": "3.8.12"
  }
 },
 "nbformat": 4,
 "nbformat_minor": 5
}
